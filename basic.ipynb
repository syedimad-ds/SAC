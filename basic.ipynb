{
 "cells": [
  {
   "cell_type": "code",
   "execution_count": 2,
   "id": "027f5884",
   "metadata": {},
   "outputs": [
    {
     "name": "stdout",
     "output_type": "stream",
     "text": [
      "10 <class 'int'>\n",
      "10 <class 'numpy.ndarray'>\n",
      "Dimension: 0\n",
      "Data type: int32\n",
      "Shape of ndarray: ()\n",
      "Size of ndarray: 1\n"
     ]
    }
   ],
   "source": [
    "import numpy as np\n",
    "a=10\n",
    "print(a,type(a))\n",
    "ndo=np.array(a)\n",
    "print(ndo,type(ndo))\n",
    "print(\"Dimension:\",ndo.ndim)\n",
    "print(\"Data type:\",ndo.dtype)\n",
    "print(\"Shape of ndarray:\",ndo.shape)\n",
    "print(\"Size of ndarray:\",ndo.size)"
   ]
  },
  {
   "cell_type": "code",
   "execution_count": 3,
   "id": "82ea245c",
   "metadata": {},
   "outputs": [
    {
     "name": "stdout",
     "output_type": "stream",
     "text": [
      "10.2 <class 'float'>\n",
      "10.2 <class 'numpy.ndarray'>\n",
      "Dimension: 0\n",
      "Data type: float64\n",
      "Shape of ndarray: ()\n",
      "Size of ndarray: 1\n"
     ]
    }
   ],
   "source": [
    "import numpy as np\n",
    "b=10.2\n",
    "print(b,type(b))\n",
    "ndo=np.array(b)\n",
    "print(ndo,type(ndo))\n",
    "print(\"Dimension:\",ndo.ndim)\n",
    "print(\"Data type:\",ndo.dtype)\n",
    "print(\"Shape of ndarray:\",ndo.shape)\n",
    "print(\"Size of ndarray:\",ndo.size)"
   ]
  },
  {
   "cell_type": "code",
   "execution_count": 4,
   "id": "c036ba34",
   "metadata": {},
   "outputs": [
    {
     "name": "stdout",
     "output_type": "stream",
     "text": [
      "True <class 'bool'>\n",
      "True <class 'numpy.ndarray'>\n",
      "Dimension: 0\n",
      "Data type: bool\n",
      "Shape of ndarray: ()\n",
      "Size of ndarray: 1\n"
     ]
    }
   ],
   "source": [
    "import numpy as np\n",
    "c=True\n",
    "print(c,type(c))\n",
    "ndo=np.array(c)\n",
    "print(ndo,type(ndo))\n",
    "print(\"Dimension:\",ndo.ndim)\n",
    "print(\"Data type:\",ndo.dtype)\n",
    "print(\"Shape of ndarray:\",ndo.shape)\n",
    "print(\"Size of ndarray:\",ndo.size)"
   ]
  },
  {
   "cell_type": "code",
   "execution_count": 5,
   "id": "9721d128",
   "metadata": {},
   "outputs": [
    {
     "name": "stdout",
     "output_type": "stream",
     "text": [
      "(10+2j) <class 'complex'>\n",
      "(10+2j) <class 'numpy.ndarray'>\n",
      "Dimension: 0\n",
      "Data type: complex128\n",
      "Shape of ndarray: ()\n",
      "Size of ndarray: 1\n"
     ]
    }
   ],
   "source": [
    "import numpy as np\n",
    "d=10+2j\n",
    "print(d,type(d))\n",
    "ndo=np.array(d)\n",
    "print(ndo,type(ndo))\n",
    "print(\"Dimension:\",ndo.ndim)\n",
    "print(\"Data type:\",ndo.dtype)\n",
    "print(\"Shape of ndarray:\",ndo.shape)\n",
    "print(\"Size of ndarray:\",ndo.size)"
   ]
  },
  {
   "cell_type": "code",
   "execution_count": 7,
   "id": "cfe41cf9",
   "metadata": {},
   "outputs": [
    {
     "name": "stdout",
     "output_type": "stream",
     "text": [
      "python <class 'str'>\n",
      "python <class 'numpy.ndarray'>\n",
      "Dimension: 0\n",
      "Data type: <U6\n",
      "Shape of ndarray: ()\n",
      "Size of ndarray: 1\n"
     ]
    }
   ],
   "source": [
    "import numpy as np\n",
    "e='python'\n",
    "print(e,type(e))\n",
    "ndo=np.array(e)\n",
    "print(ndo,type(ndo))\n",
    "print(\"Dimension:\",ndo.ndim)\n",
    "print(\"Data type:\",ndo.dtype)\n",
    "print(\"Shape of ndarray:\",ndo.shape)\n",
    "print(\"Size of ndarray:\",ndo.size)"
   ]
  },
  {
   "cell_type": "code",
   "execution_count": 8,
   "id": "dfcead50",
   "metadata": {},
   "outputs": [
    {
     "name": "stdout",
     "output_type": "stream",
     "text": [
      "range(0, 10) <class 'range'>\n",
      "[0 1 2 3 4 5 6 7 8 9] <class 'numpy.ndarray'>\n",
      "Dimension: 1\n",
      "Data type: int32\n",
      "Shape of ndarray: (10,)\n",
      "Size of ndarray: 10\n"
     ]
    }
   ],
   "source": [
    "import numpy as np\n",
    "f=range(10)\n",
    "print(f,type(f))\n",
    "ndo=np.array(f)\n",
    "print(ndo,type(ndo))\n",
    "print(\"Dimension:\",ndo.ndim)\n",
    "print(\"Data type:\",ndo.dtype)\n",
    "print(\"Shape of ndarray:\",ndo.shape)\n",
    "print(\"Size of ndarray:\",ndo.size)"
   ]
  },
  {
   "cell_type": "code",
   "execution_count": 9,
   "id": "ada1ac2b",
   "metadata": {},
   "outputs": [
    {
     "name": "stdout",
     "output_type": "stream",
     "text": [
      "[10, 20.5, 'Von Rossum', True, (2+3j)] <class 'list'>\n",
      "['10' '20.5' 'Von Rossum' 'True' '(2+3j)'] <class 'numpy.ndarray'>\n",
      "Dimension: 1\n",
      "Data type: <U64\n",
      "Shape of ndarray: (5,)\n",
      "Size of ndarray: 5\n"
     ]
    }
   ],
   "source": [
    "import numpy as np\n",
    "g=[10,20.5,\"Von Rossum\",True,2+3j]\n",
    "print(g,type(g))\n",
    "ndo=np.array(g)\n",
    "print(ndo,type(ndo))\n",
    "print(\"Dimension:\",ndo.ndim)\n",
    "print(\"Data type:\",ndo.dtype)\n",
    "print(\"Shape of ndarray:\",ndo.shape)\n",
    "print(\"Size of ndarray:\",ndo.size)"
   ]
  },
  {
   "cell_type": "code",
   "execution_count": 10,
   "id": "3943c365",
   "metadata": {},
   "outputs": [
    {
     "name": "stdout",
     "output_type": "stream",
     "text": [
      "[[10, 20, 30], [40, 50, 60], [70, 80, 90]]\n",
      "[[10 20 30]\n",
      " [40 50 60]\n",
      " [70 80 90]]\n"
     ]
    }
   ],
   "source": [
    "h=[[10,20,30],[40,50,60],[70,80,90]]\n",
    "print(h)\n",
    "ndo=np.array(h)\n",
    "print(ndo)"
   ]
  },
  {
   "cell_type": "code",
   "execution_count": 14,
   "id": "80d9b2e9",
   "metadata": {},
   "outputs": [
    {
     "name": "stdout",
     "output_type": "stream",
     "text": [
      "[1, 2, 3, 4, 5, 6]\n",
      "[5 7 9]\n",
      "[ 4 10 18]\n",
      "[5 7 9]\n",
      "[ 4 10 18]\n"
     ]
    }
   ],
   "source": [
    "lst1=[1,2,3]\n",
    "lst2=[4,5,6]\n",
    "lst3=lst1+lst2\n",
    "print(lst3)\n",
    "nd1=np.array(lst1)\n",
    "nd2=np.array(lst2)\n",
    "print(nd1+nd2)\n",
    "print(nd1*nd2)\n",
    "print(np.add(lst1,lst2))\n",
    "print(np.multiply(lst1,lst2))"
   ]
  },
  {
   "cell_type": "code",
   "execution_count": 16,
   "id": "b664cecb",
   "metadata": {},
   "outputs": [
    {
     "name": "stdout",
     "output_type": "stream",
     "text": [
      "[1, 2, 3, 4, 5, 6, 7, 8, 9]\n",
      "[1 2 3 4 5 6 7 8 9]\n",
      "Dimension: 1\n",
      "Data type: int32\n",
      "Shape: (9,)\n",
      "Size: 9\n",
      "[[1 2 3]\n",
      " [4 5 6]\n",
      " [7 8 9]]\n",
      "Dimension: 2\n",
      "Data type: int32\n",
      "Shape: (3, 3)\n",
      "Size: 9\n"
     ]
    }
   ],
   "source": [
    "i=[1,2,3,4,5,6,7,8,9]\n",
    "print(i)\n",
    "ndo=np.array(i)\n",
    "print(ndo)\n",
    "print(\"Dimension:\",ndo.ndim)\n",
    "print(\"Data type:\",ndo.dtype)\n",
    "print(\"Shape:\",ndo.shape)\n",
    "print(\"Size:\",ndo.size)\n",
    "ndo=ndo.reshape(3,3)\n",
    "print(ndo)\n",
    "print(\"Dimension:\",ndo.ndim)\n",
    "print(\"Data type:\",ndo.dtype)\n",
    "print(\"Shape:\",ndo.shape)\n",
    "print(\"Size:\",ndo.size)"
   ]
  },
  {
   "cell_type": "code",
   "execution_count": 18,
   "id": "681230c9",
   "metadata": {},
   "outputs": [
    {
     "name": "stdout",
     "output_type": "stream",
     "text": [
      "range(0, 4)\n",
      "[0 1 2 3]\n",
      "Dimension: 1\n",
      "Data type: int32\n",
      "Shape: (4,)\n",
      "Size: 4\n",
      "[[0 1]\n",
      " [2 3]]\n",
      "Dimension: 2\n",
      "Data type: int32\n",
      "Shape: (2, 2)\n",
      "Size: 4\n"
     ]
    }
   ],
   "source": [
    "j=range(0,4)\n",
    "print(j)\n",
    "ndo=np.array(j)\n",
    "print(ndo)\n",
    "print(\"Dimension:\",ndo.ndim)\n",
    "print(\"Data type:\",ndo.dtype)\n",
    "print(\"Shape:\",ndo.shape)\n",
    "print(\"Size:\",ndo.size)\n",
    "ndo=ndo.reshape(2,2)\n",
    "print(ndo)\n",
    "print(\"Dimension:\",ndo.ndim)\n",
    "print(\"Data type:\",ndo.dtype)\n",
    "print(\"Shape:\",ndo.shape)\n",
    "print(\"Size:\",ndo.size)"
   ]
  },
  {
   "cell_type": "code",
   "execution_count": null,
   "id": "1a77bcf3",
   "metadata": {},
   "outputs": [],
   "source": []
  }
 ],
 "metadata": {
  "kernelspec": {
   "display_name": "Python 3 (ipykernel)",
   "language": "python",
   "name": "python3"
  },
  "language_info": {
   "codemirror_mode": {
    "name": "ipython",
    "version": 3
   },
   "file_extension": ".py",
   "mimetype": "text/x-python",
   "name": "python",
   "nbconvert_exporter": "python",
   "pygments_lexer": "ipython3",
   "version": "3.11.4"
  }
 },
 "nbformat": 4,
 "nbformat_minor": 5
}
